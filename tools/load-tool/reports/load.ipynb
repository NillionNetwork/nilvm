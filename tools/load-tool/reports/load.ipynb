{
 "cells": [
  {
   "cell_type": "markdown",
   "metadata": {
    "id": "hlYfxxvILGuh"
   },
   "source": [
    "# Introdution"
   ]
  },
  {
   "cell_type": "markdown",
   "metadata": {
    "id": "TYS6nLsf7MnY"
   },
   "source": [
    "Load test process generates a JSON file that contains:\n",
    "* Some metadata about the test itself.\n",
    "* The results of the test, in CSV format.\n",
    "\n",
    "The CSV results contain the following columns:\n",
    "\n",
    "* **Id**: A unique incremental id for every row in the file.\n",
    "* **Elapsed**: Load test's time that has elapsed (in millisconds).\n",
    "* **Total workers**: The number of active workers executing a flow.\n",
    "* **State**: State is **Success** when the test has been executed successfully, in other case, the state's value is **Failure**\n",
    "* **Duration**: The time that has been spent to execute the test (in milliseconds).\n",
    "\n",
    "Finally, data frame (df) is sorted by elapsed time and the Elapsed and Duration fields are mapped to seconds."
   ]
  },
  {
   "cell_type": "code",
   "execution_count": null,
   "metadata": {
    "tags": [
     "parameters"
    ]
   },
   "outputs": [],
   "source": [
    "results_file_path = None"
   ]
  },
  {
   "cell_type": "code",
   "execution_count": 5,
   "metadata": {
    "id": "vF6AE4_NKl8h"
   },
   "outputs": [
    {
     "ename": "SyntaxError",
     "evalue": "'[' was never closed (2448118494.py, line 57)",
     "output_type": "error",
     "traceback": [
      "\u001b[0;36m  Cell \u001b[0;32mIn[5], line 57\u001b[0;36m\u001b[0m\n\u001b[0;31m    df[\u001b[0m\n\u001b[0m      ^\u001b[0m\n\u001b[0;31mSyntaxError\u001b[0m\u001b[0;31m:\u001b[0m '[' was never closed\n"
     ]
    }
   ],
   "source": [
    "%pip install pandas matplotlib\n",
    "import pandas as pd \n",
    "import matplotlib.pyplot as plt\n",
    "import numpy as np\n",
    "import os.path\n",
    "import glob\n",
    "import json\n",
    "import io\n",
    "\n",
    "class LoadTestResults:\n",
    "    def __init__(self, file_path):\n",
    "        report = json.load(open(file_path))\n",
    "        df = pd.read_csv(io.StringIO(report[\"content\"]))\n",
    "        if len(df) == 0:\n",
    "            raise Exception(\"input file is empty\")\n",
    "        df['Elapsed in seconds'] = (df['Elapsed'] / 1000).round(0)\n",
    "        df['Duration in seconds'] = (df['Duration'] / 1000).round(0)\n",
    "\n",
    "        self.metadata = report[\"metadata\"]\n",
    "        self.df = df\n",
    "        self.plot_kwargs = {\n",
    "            \"figsize\": (15, 5),\n",
    "        }\n",
    "    \n",
    "    def plot_active_workers_over_time(self):\n",
    "        df = self.df.groupby(['Elapsed in seconds']).agg({ 'Total workers' : 'mean' }).reset_index()\n",
    "        df.plot(\n",
    "            kind = 'line',\n",
    "            x = 'Elapsed in seconds',\n",
    "            y = 'Total workers',\n",
    "            title = 'Number of active workers',\n",
    "            **self.plot_kwargs,\n",
    "        )\n",
    "        plt.show()\n",
    "\n",
    "    def plot_test_result_over_time(self):\n",
    "        ax = None\n",
    "        for state in ['Success', 'Failure']:\n",
    "            df = self.df.loc[self.df['State'] == state].groupby(['Elapsed in seconds']).agg({ 'Id' : 'count' }).reset_index()\n",
    "            df = df.rename(columns = {'Id': state})\n",
    "            this_ax = df.plot(\n",
    "                kind = 'line',\n",
    "                x = 'Elapsed in seconds',\n",
    "                y = state,\n",
    "                title = 'Test results',\n",
    "                ax=ax,\n",
    "                **self.plot_kwargs,\n",
    "            )\n",
    "            if ax is None:\n",
    "                ax = this_ax\n",
    "        plt.show()\n",
    "\n",
    "    def plot_flow_duration_over_time(self):\n",
    "        df = self.df.groupby(['Elapsed in seconds']).agg({ 'Duration' : 'mean' }).reset_index()\n",
    "        df['Duration in seconds'] = (df['Duration'] / 1000)\n",
    "        df.plot(\n",
    "            kind = 'line',\n",
    "            x = 'Elapsed in seconds',\n",
    "            y = 'Duration in seconds',\n",
    "            title = 'Average duration of each flow',\n",
    "            **self.plot_kwargs,\n",
    "        )\n",
    "        plt.show()\n",
    "\n",
    "    def plot_flows_per_second_over_time(self):\n",
    "        df = self.df.groupby(['Elapsed in seconds']).agg({ 'Id' : 'count' }).reset_index()\n",
    "        df = df.rename(columns={'Speed (Test/Second)' : 'Id'})\n",
    "        df.plot(\n",
    "            kind = 'line',\n",
    "            x = 'Elapsed in seconds',\n",
    "            y = 'Id',\n",
    "            title = 'Flows/second',\n",
    "            ylabel = 'Count',\n",
    "            **self.plot_kwargs,\n",
    "        )\n",
    "        plt.show()\n",
    "\n",
    "    def plot_secrets_per_second_over_time(self):\n",
    "        df = self.df.copy()\n",
    "        df['Secrets'] = self.metadata['secret_count']\n",
    "        title = ''\n",
    "        kind = self.metadata['kind']\n",
    "        if kind == 'StoreValues':\n",
    "            title = 'Stored values/second'\n",
    "        elif kind == 'RetrieveValue':\n",
    "            title = 'Retrieved valuess/second'\n",
    "        elif kind == 'Compute':\n",
    "            title = 'Compute secrets / second'\n",
    "            \n",
    "        df = df.groupby(['Elapsed in seconds']).agg({ 'Secrets' : 'sum' }).reset_index()\n",
    "        df.plot(\n",
    "            kind = 'line',\n",
    "            x = 'Elapsed in seconds',\n",
    "            y = 'Secrets',\n",
    "            title = title,\n",
    "            ylabel = 'Secret count',\n",
    "            **self.plot_kwargs,\n",
    "        )\n",
    "        plt.show()\n",
    "\n",
    "    def plot_throughput_over_time(self):\n",
    "        df = self.df.copy()\n",
    "        df['Kilobytes/s'] = self.metadata['secrets_size'] / 1024\n",
    "        title = ''\n",
    "        kind = self.metadata['kind']\n",
    "        if kind == 'StoreValues' or kind == 'Compute':\n",
    "            title = 'Storage throughput'\n",
    "        elif kind == 'RetrieveValue':\n",
    "            title = 'Retrieval throughput'\n",
    "            \n",
    "        df = df.groupby(['Elapsed in seconds']).agg({ 'Kilobytes/s' : 'sum' }).reset_index()\n",
    "        df.plot(\n",
    "            kind = 'line',\n",
    "            x = 'Elapsed in seconds',\n",
    "            y = 'Kilobytes/s',\n",
    "            title = title,\n",
    "            ylabel = 'Throughput (Kilobytes/s)',\n",
    "            **self.plot_kwargs,\n",
    "        )\n",
    "        plt.show()\n",
    "    \n",
    "    def plot_flow_duration_histogram(self):\n",
    "        column = 'Duration'\n",
    "        for name, group in self.df.groupby(['Total workers']):\n",
    "            values = group[column]\n",
    "            group.plot(\n",
    "                kind ='hist',\n",
    "                range = (values.min(), values.max()),\n",
    "                xlabel = 'Operation duration (ms)',\n",
    "                column = column,\n",
    "                title = f'Duration for {name[0]} workers',\n",
    "                **self.plot_kwargs,\n",
    "            )\n",
    "        plt.show()\n",
    "        \n",
    "if results_file_path is None:\n",
    "    raise Exception(\"results_file_path parameter not set\")\n",
    "\n",
    "results = LoadTestResults(results_file_path)"
   ]
  },
  {
   "cell_type": "markdown",
   "metadata": {
    "id": "f3KybQm7NdoB"
   },
   "source": [
    "## Workers running throughout the testing process\n",
    "\n",
    "This shows how the number of workers changed as the test was running."
   ]
  },
  {
   "cell_type": "code",
   "execution_count": null,
   "metadata": {
    "colab": {
     "base_uri": "https://localhost:8080/",
     "height": 1000
    },
    "id": "6GeSe5K8r6dm",
    "outputId": "c054d961-951c-488d-c4d0-1178f0ec80c2"
   },
   "outputs": [],
   "source": [
    "results.plot_active_workers_over_time()"
   ]
  },
  {
   "cell_type": "markdown",
   "metadata": {
    "id": "f3KybQm7NdoB"
   },
   "source": [
    "## Test results\n",
    "\n",
    "This shows the test resuls split (success/failure) over time."
   ]
  },
  {
   "cell_type": "code",
   "execution_count": null,
   "metadata": {
    "colab": {
     "base_uri": "https://localhost:8080/",
     "height": 1000
    },
    "id": "6GeSe5K8r6dm",
    "outputId": "c054d961-951c-488d-c4d0-1178f0ec80c2"
   },
   "outputs": [],
   "source": [
    "results.plot_test_result_over_time()"
   ]
  },
  {
   "cell_type": "markdown",
   "metadata": {
    "id": "-jIaXcxkRI-F"
   },
   "source": [
    "## Average flow duration\n",
    "\n",
    "This shows the average duration of flows over the duration of the test."
   ]
  },
  {
   "cell_type": "code",
   "execution_count": null,
   "metadata": {
    "colab": {
     "base_uri": "https://localhost:8080/",
     "height": 1000
    },
    "id": "JOEtEzyNRCSn",
    "outputId": "fd075214-5816-4f0b-e26e-01dce791c5ee"
   },
   "outputs": [],
   "source": [
    "results.plot_flow_duration_over_time()"
   ]
  },
  {
   "cell_type": "markdown",
   "metadata": {
    "id": "QuG709bFPxyD"
   },
   "source": [
    "## Flows per second\n",
    "\n",
    "This shows the flows per second over the duration of the test."
   ]
  },
  {
   "cell_type": "code",
   "execution_count": null,
   "metadata": {
    "colab": {
     "base_uri": "https://localhost:8080/",
     "height": 1000
    },
    "id": "bNzhMHUYPpvY",
    "outputId": "97cbe2a2-0334-4896-c825-110226b12c35"
   },
   "outputs": [],
   "source": [
    "results.plot_flows_per_second_over_time()"
   ]
  },
  {
   "cell_type": "markdown",
   "metadata": {
    "id": "QuG709bFPxyD"
   },
   "source": [
    "## Secrets per second\n",
    "\n",
    "This shows the stored / retrieved secrets per second depending on the type of test ran."
   ]
  },
  {
   "cell_type": "code",
   "execution_count": null,
   "metadata": {
    "colab": {
     "base_uri": "https://localhost:8080/",
     "height": 1000
    },
    "id": "bNzhMHUYPpvY",
    "outputId": "97cbe2a2-0334-4896-c825-110226b12c35"
   },
   "outputs": [],
   "source": [
    "results.plot_secrets_per_second_over_time()"
   ]
  },
  {
   "cell_type": "markdown",
   "metadata": {
    "id": "QuG709bFPxyD"
   },
   "source": [
    "## Throughput\n",
    "\n",
    "This shows the stored / retrieved secrets throughput."
   ]
  },
  {
   "cell_type": "code",
   "execution_count": null,
   "metadata": {
    "colab": {
     "base_uri": "https://localhost:8080/",
     "height": 1000
    },
    "id": "bNzhMHUYPpvY",
    "outputId": "97cbe2a2-0334-4896-c825-110226b12c35"
   },
   "outputs": [],
   "source": [
    "results.plot_throughput_over_time()"
   ]
  },
  {
   "cell_type": "markdown",
   "metadata": {
    "id": "3hfoqyBpRUrY"
   },
   "source": [
    "## Number of flows grouped by duration\n",
    "\n",
    "This shows a histogram of the duration of each flow grouped by the number of workers that were active."
   ]
  },
  {
   "cell_type": "code",
   "execution_count": null,
   "metadata": {
    "colab": {
     "base_uri": "https://localhost:8080/",
     "height": 1000
    },
    "id": "cRe1MEmUQR51",
    "outputId": "bdd64a69-1941-419b-861c-91f6d3870295"
   },
   "outputs": [],
   "source": [
    "results.plot_flow_duration_histogram()"
   ]
  }
 ],
 "metadata": {
  "celltoolbar": "Tags",
  "colab": {
   "collapsed_sections": [],
   "name": "LoadTesting.ipynb",
   "provenance": [],
   "toc_visible": true
  },
  "kernelspec": {
   "display_name": "venv",
   "language": "python",
   "name": "venv"
  },
  "language_info": {
   "codemirror_mode": {
    "name": "ipython",
    "version": 3
   },
   "file_extension": ".py",
   "mimetype": "text/x-python",
   "name": "python",
   "nbconvert_exporter": "python",
   "pygments_lexer": "ipython3",
   "version": "3.10.12"
  }
 },
 "nbformat": 4,
 "nbformat_minor": 4
}
